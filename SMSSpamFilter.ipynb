{
  "nbformat": 4,
  "nbformat_minor": 0,
  "metadata": {
    "colab": {
      "name": "SMSSpamFilter.ipynb",
      "provenance": [],
      "collapsed_sections": [],
      "include_colab_link": true
    },
    "kernelspec": {
      "name": "python3",
      "display_name": "Python 3"
    }
  },
  "cells": [
    {
      "cell_type": "markdown",
      "metadata": {
        "id": "view-in-github",
        "colab_type": "text"
      },
      "source": [
        "<a href=\"https://colab.research.google.com/github/GitaNadapdap/RepositoryRPL/blob/master/SMSSpamFilter.ipynb\" target=\"_parent\"><img src=\"https://colab.research.google.com/assets/colab-badge.svg\" alt=\"Open In Colab\"/></a>"
      ]
    },
    {
      "cell_type": "code",
      "metadata": {
        "colab": {
          "base_uri": "https://localhost:8080/"
        },
        "id": "xSEz7gERQjzy",
        "outputId": "83263859-ee02-4f2e-c728-32a63217c668"
      },
      "source": [
        "#connect to google drive\r\n",
        "\r\n",
        "from google.colab import drive\r\n",
        "drive.mount('/content/drive')"
      ],
      "execution_count": null,
      "outputs": [
        {
          "output_type": "stream",
          "text": [
            "Mounted at /content/drive\n"
          ],
          "name": "stdout"
        }
      ]
    },
    {
      "cell_type": "code",
      "metadata": {
        "id": "kc9llcxDRvYA"
      },
      "source": [
        "data_file = '/content/drive/My Drive/Collab Notebook/SMSSPAMFILTER/portald1_data-collector.csv'"
      ],
      "execution_count": null,
      "outputs": []
    },
    {
      "cell_type": "code",
      "metadata": {
        "colab": {
          "base_uri": "https://localhost:8080/",
          "height": 419
        },
        "id": "rhGQgyEbSpCT",
        "outputId": "39d0d627-a11f-4c85-eb9c-106cd4bdf367"
      },
      "source": [
        "import pandas as pd\r\n",
        "\r\n",
        "data = pd.read_csv(data_file, header=None, names=['sms', 'nomor', 'label'])\r\n",
        "data.head(500)"
      ],
      "execution_count": null,
      "outputs": [
        {
          "output_type": "execute_result",
          "data": {
            "text/html": [
              "<div>\n",
              "<style scoped>\n",
              "    .dataframe tbody tr th:only-of-type {\n",
              "        vertical-align: middle;\n",
              "    }\n",
              "\n",
              "    .dataframe tbody tr th {\n",
              "        vertical-align: top;\n",
              "    }\n",
              "\n",
              "    .dataframe thead th {\n",
              "        text-align: right;\n",
              "    }\n",
              "</style>\n",
              "<table border=\"1\" class=\"dataframe\">\n",
              "  <thead>\n",
              "    <tr style=\"text-align: right;\">\n",
              "      <th></th>\n",
              "      <th>sms</th>\n",
              "      <th>nomor</th>\n",
              "      <th>label</th>\n",
              "    </tr>\n",
              "  </thead>\n",
              "  <tbody>\n",
              "    <tr>\n",
              "      <th>0</th>\n",
              "      <td>lni No Rek Nya Bank Mandiri 157-000-7197-883 A...</td>\n",
              "      <td>82321166619</td>\n",
              "      <td>Penipuan</td>\n",
              "    </tr>\n",
              "    <tr>\n",
              "      <th>1</th>\n",
              "      <td>Selamat no Anda trpilih Mndapatkan Hadiah ke-3...</td>\n",
              "      <td>85348849749</td>\n",
              "      <td>Penipuan</td>\n",
              "    </tr>\n",
              "    <tr>\n",
              "      <th>2</th>\n",
              "      <td>P3S4N R3SM1 SH0PEE Program tahunan 2020 no and...</td>\n",
              "      <td>85281914083</td>\n",
              "      <td>Penipuan</td>\n",
              "    </tr>\n",
              "    <tr>\n",
              "      <th>3</th>\n",
              "      <td>Pusing Dengan Masalah ekonomi Kami solusinya P...</td>\n",
              "      <td>85233034618</td>\n",
              "      <td>Penipuan</td>\n",
              "    </tr>\n",
              "    <tr>\n",
              "      <th>4</th>\n",
              "      <td>Anda Terpilih Pemenang cek Rp.175.000.000 PIN ...</td>\n",
              "      <td>85212204890</td>\n",
              "      <td>Penipuan</td>\n",
              "    </tr>\n",
              "    <tr>\n",
              "      <th>...</th>\n",
              "      <td>...</td>\n",
              "      <td>...</td>\n",
              "      <td>...</td>\n",
              "    </tr>\n",
              "    <tr>\n",
              "      <th>495</th>\n",
              "      <td>Pelanggan 081  27699  15441  +2000 COIN PULSA ...</td>\n",
              "      <td>85282859095</td>\n",
              "      <td>Penipuan</td>\n",
              "    </tr>\n",
              "    <tr>\n",
              "      <th>496</th>\n",
              "      <td>PESAN RESMI !!  Anda pemenang  SHOPEE AWAL TAH...</td>\n",
              "      <td>82358420264</td>\n",
              "      <td>Penipuan</td>\n",
              "    </tr>\n",
              "    <tr>\n",
              "      <th>497</th>\n",
              "      <td>Pelanggan 082371 334121, Kamu  Dapat +1000 COI...</td>\n",
              "      <td>85216045718</td>\n",
              "      <td>Penipuan</td>\n",
              "    </tr>\n",
              "    <tr>\n",
              "      <th>498</th>\n",
              "      <td>Ass bpk/ibu  Selamat Anda  resmi mendapatkan  ...</td>\n",
              "      <td>82334331200</td>\n",
              "      <td>Penipuan</td>\n",
              "    </tr>\n",
              "    <tr>\n",
              "      <th>499</th>\n",
              "      <td>Ass1Bpk/Ibu Butuh Dana  Kami Mnawarkan Pnjaman...</td>\n",
              "      <td>82252306232</td>\n",
              "      <td>Iklan/promosi</td>\n",
              "    </tr>\n",
              "  </tbody>\n",
              "</table>\n",
              "<p>500 rows × 3 columns</p>\n",
              "</div>"
            ],
            "text/plain": [
              "                                                   sms  ...          label\n",
              "0    lni No Rek Nya Bank Mandiri 157-000-7197-883 A...  ...       Penipuan\n",
              "1    Selamat no Anda trpilih Mndapatkan Hadiah ke-3...  ...       Penipuan\n",
              "2    P3S4N R3SM1 SH0PEE Program tahunan 2020 no and...  ...       Penipuan\n",
              "3    Pusing Dengan Masalah ekonomi Kami solusinya P...  ...       Penipuan\n",
              "4    Anda Terpilih Pemenang cek Rp.175.000.000 PIN ...  ...       Penipuan\n",
              "..                                                 ...  ...            ...\n",
              "495  Pelanggan 081  27699  15441  +2000 COIN PULSA ...  ...       Penipuan\n",
              "496  PESAN RESMI !!  Anda pemenang  SHOPEE AWAL TAH...  ...       Penipuan\n",
              "497  Pelanggan 082371 334121, Kamu  Dapat +1000 COI...  ...       Penipuan\n",
              "498  Ass bpk/ibu  Selamat Anda  resmi mendapatkan  ...  ...       Penipuan\n",
              "499  Ass1Bpk/Ibu Butuh Dana  Kami Mnawarkan Pnjaman...  ...  Iklan/promosi\n",
              "\n",
              "[500 rows x 3 columns]"
            ]
          },
          "metadata": {
            "tags": []
          },
          "execution_count": 15
        }
      ]
    },
    {
      "cell_type": "code",
      "metadata": {
        "colab": {
          "base_uri": "https://localhost:8080/"
        },
        "id": "I6KolhlSVBSV",
        "outputId": "d1597e67-1fff-4153-8851-96f3e6a520d5"
      },
      "source": [
        "#load stopwords and punctuation\r\n",
        "\r\n",
        "import string\r\n",
        "import nltk\r\n",
        "import numpy as np\r\n",
        "import re\r\n",
        "\r\n",
        "nltk.download('stopwords')\r\n",
        "nltk.download('punkt')\r\n",
        "\r\n",
        "stopwords = nltk.corpus.stopwords.words('indonesian')\r\n",
        "punctuation = string.punctuation\r\n",
        "\r\n",
        "print(stopwords[:1000])\r\n",
        "print(punctuation)\r\n",
        "\r\n"
      ],
      "execution_count": null,
      "outputs": [
        {
          "output_type": "stream",
          "text": [
            "[nltk_data] Downloading package stopwords to /root/nltk_data...\n",
            "[nltk_data]   Package stopwords is already up-to-date!\n",
            "[nltk_data] Downloading package punkt to /root/nltk_data...\n",
            "[nltk_data]   Package punkt is already up-to-date!\n",
            "['ada', 'adalah', 'adanya', 'adapun', 'agak', 'agaknya', 'agar', 'akan', 'akankah', 'akhir', 'akhiri', 'akhirnya', 'aku', 'akulah', 'amat', 'amatlah', 'anda', 'andalah', 'antar', 'antara', 'antaranya', 'apa', 'apaan', 'apabila', 'apakah', 'apalagi', 'apatah', 'artinya', 'asal', 'asalkan', 'atas', 'atau', 'ataukah', 'ataupun', 'awal', 'awalnya', 'bagai', 'bagaikan', 'bagaimana', 'bagaimanakah', 'bagaimanapun', 'bagi', 'bagian', 'bahkan', 'bahwa', 'bahwasanya', 'baik', 'bakal', 'bakalan', 'balik', 'banyak', 'bapak', 'baru', 'bawah', 'beberapa', 'begini', 'beginian', 'beginikah', 'beginilah', 'begitu', 'begitukah', 'begitulah', 'begitupun', 'bekerja', 'belakang', 'belakangan', 'belum', 'belumlah', 'benar', 'benarkah', 'benarlah', 'berada', 'berakhir', 'berakhirlah', 'berakhirnya', 'berapa', 'berapakah', 'berapalah', 'berapapun', 'berarti', 'berawal', 'berbagai', 'berdatangan', 'beri', 'berikan', 'berikut', 'berikutnya', 'berjumlah', 'berkali-kali', 'berkata', 'berkehendak', 'berkeinginan', 'berkenaan', 'berlainan', 'berlalu', 'berlangsung', 'berlebihan', 'bermacam', 'bermacam-macam', 'bermaksud', 'bermula', 'bersama', 'bersama-sama', 'bersiap', 'bersiap-siap', 'bertanya', 'bertanya-tanya', 'berturut', 'berturut-turut', 'bertutur', 'berujar', 'berupa', 'besar', 'betul', 'betulkah', 'biasa', 'biasanya', 'bila', 'bilakah', 'bisa', 'bisakah', 'boleh', 'bolehkah', 'bolehlah', 'buat', 'bukan', 'bukankah', 'bukanlah', 'bukannya', 'bulan', 'bung', 'cara', 'caranya', 'cukup', 'cukupkah', 'cukuplah', 'cuma', 'dahulu', 'dalam', 'dan', 'dapat', 'dari', 'daripada', 'datang', 'dekat', 'demi', 'demikian', 'demikianlah', 'dengan', 'depan', 'di', 'dia', 'diakhiri', 'diakhirinya', 'dialah', 'diantara', 'diantaranya', 'diberi', 'diberikan', 'diberikannya', 'dibuat', 'dibuatnya', 'didapat', 'didatangkan', 'digunakan', 'diibaratkan', 'diibaratkannya', 'diingat', 'diingatkan', 'diinginkan', 'dijawab', 'dijelaskan', 'dijelaskannya', 'dikarenakan', 'dikatakan', 'dikatakannya', 'dikerjakan', 'diketahui', 'diketahuinya', 'dikira', 'dilakukan', 'dilalui', 'dilihat', 'dimaksud', 'dimaksudkan', 'dimaksudkannya', 'dimaksudnya', 'diminta', 'dimintai', 'dimisalkan', 'dimulai', 'dimulailah', 'dimulainya', 'dimungkinkan', 'dini', 'dipastikan', 'diperbuat', 'diperbuatnya', 'dipergunakan', 'diperkirakan', 'diperlihatkan', 'diperlukan', 'diperlukannya', 'dipersoalkan', 'dipertanyakan', 'dipunyai', 'diri', 'dirinya', 'disampaikan', 'disebut', 'disebutkan', 'disebutkannya', 'disini', 'disinilah', 'ditambahkan', 'ditandaskan', 'ditanya', 'ditanyai', 'ditanyakan', 'ditegaskan', 'ditujukan', 'ditunjuk', 'ditunjuki', 'ditunjukkan', 'ditunjukkannya', 'ditunjuknya', 'dituturkan', 'dituturkannya', 'diucapkan', 'diucapkannya', 'diungkapkan', 'dong', 'dua', 'dulu', 'empat', 'enggak', 'enggaknya', 'entah', 'entahlah', 'guna', 'gunakan', 'hal', 'hampir', 'hanya', 'hanyalah', 'hari', 'harus', 'haruslah', 'harusnya', 'hendak', 'hendaklah', 'hendaknya', 'hingga', 'ia', 'ialah', 'ibarat', 'ibaratkan', 'ibaratnya', 'ibu', 'ikut', 'ingat', 'ingat-ingat', 'ingin', 'inginkah', 'inginkan', 'ini', 'inikah', 'inilah', 'itu', 'itukah', 'itulah', 'jadi', 'jadilah', 'jadinya', 'jangan', 'jangankan', 'janganlah', 'jauh', 'jawab', 'jawaban', 'jawabnya', 'jelas', 'jelaskan', 'jelaslah', 'jelasnya', 'jika', 'jikalau', 'juga', 'jumlah', 'jumlahnya', 'justru', 'kala', 'kalau', 'kalaulah', 'kalaupun', 'kalian', 'kami', 'kamilah', 'kamu', 'kamulah', 'kan', 'kapan', 'kapankah', 'kapanpun', 'karena', 'karenanya', 'kasus', 'kata', 'katakan', 'katakanlah', 'katanya', 'ke', 'keadaan', 'kebetulan', 'kecil', 'kedua', 'keduanya', 'keinginan', 'kelamaan', 'kelihatan', 'kelihatannya', 'kelima', 'keluar', 'kembali', 'kemudian', 'kemungkinan', 'kemungkinannya', 'kenapa', 'kepada', 'kepadanya', 'kesampaian', 'keseluruhan', 'keseluruhannya', 'keterlaluan', 'ketika', 'khususnya', 'kini', 'kinilah', 'kira', 'kira-kira', 'kiranya', 'kita', 'kitalah', 'kok', 'kurang', 'lagi', 'lagian', 'lah', 'lain', 'lainnya', 'lalu', 'lama', 'lamanya', 'lanjut', 'lanjutnya', 'lebih', 'lewat', 'lima', 'luar', 'macam', 'maka', 'makanya', 'makin', 'malah', 'malahan', 'mampu', 'mampukah', 'mana', 'manakala', 'manalagi', 'masa', 'masalah', 'masalahnya', 'masih', 'masihkah', 'masing', 'masing-masing', 'mau', 'maupun', 'melainkan', 'melakukan', 'melalui', 'melihat', 'melihatnya', 'memang', 'memastikan', 'memberi', 'memberikan', 'membuat', 'memerlukan', 'memihak', 'meminta', 'memintakan', 'memisalkan', 'memperbuat', 'mempergunakan', 'memperkirakan', 'memperlihatkan', 'mempersiapkan', 'mempersoalkan', 'mempertanyakan', 'mempunyai', 'memulai', 'memungkinkan', 'menaiki', 'menambahkan', 'menandaskan', 'menanti', 'menanti-nanti', 'menantikan', 'menanya', 'menanyai', 'menanyakan', 'mendapat', 'mendapatkan', 'mendatang', 'mendatangi', 'mendatangkan', 'menegaskan', 'mengakhiri', 'mengapa', 'mengatakan', 'mengatakannya', 'mengenai', 'mengerjakan', 'mengetahui', 'menggunakan', 'menghendaki', 'mengibaratkan', 'mengibaratkannya', 'mengingat', 'mengingatkan', 'menginginkan', 'mengira', 'mengucapkan', 'mengucapkannya', 'mengungkapkan', 'menjadi', 'menjawab', 'menjelaskan', 'menuju', 'menunjuk', 'menunjuki', 'menunjukkan', 'menunjuknya', 'menurut', 'menuturkan', 'menyampaikan', 'menyangkut', 'menyatakan', 'menyebutkan', 'menyeluruh', 'menyiapkan', 'merasa', 'mereka', 'merekalah', 'merupakan', 'meski', 'meskipun', 'meyakini', 'meyakinkan', 'minta', 'mirip', 'misal', 'misalkan', 'misalnya', 'mula', 'mulai', 'mulailah', 'mulanya', 'mungkin', 'mungkinkah', 'nah', 'naik', 'namun', 'nanti', 'nantinya', 'nyaris', 'nyatanya', 'oleh', 'olehnya', 'pada', 'padahal', 'padanya', 'pak', 'paling', 'panjang', 'pantas', 'para', 'pasti', 'pastilah', 'penting', 'pentingnya', 'per', 'percuma', 'perlu', 'perlukah', 'perlunya', 'pernah', 'persoalan', 'pertama', 'pertama-tama', 'pertanyaan', 'pertanyakan', 'pihak', 'pihaknya', 'pukul', 'pula', 'pun', 'punya', 'rasa', 'rasanya', 'rata', 'rupanya', 'saat', 'saatnya', 'saja', 'sajalah', 'saling', 'sama', 'sama-sama', 'sambil', 'sampai', 'sampai-sampai', 'sampaikan', 'sana', 'sangat', 'sangatlah', 'satu', 'saya', 'sayalah', 'se', 'sebab', 'sebabnya', 'sebagai', 'sebagaimana', 'sebagainya', 'sebagian', 'sebaik', 'sebaik-baiknya', 'sebaiknya', 'sebaliknya', 'sebanyak', 'sebegini', 'sebegitu', 'sebelum', 'sebelumnya', 'sebenarnya', 'seberapa', 'sebesar', 'sebetulnya', 'sebisanya', 'sebuah', 'sebut', 'sebutlah', 'sebutnya', 'secara', 'secukupnya', 'sedang', 'sedangkan', 'sedemikian', 'sedikit', 'sedikitnya', 'seenaknya', 'segala', 'segalanya', 'segera', 'seharusnya', 'sehingga', 'seingat', 'sejak', 'sejauh', 'sejenak', 'sejumlah', 'sekadar', 'sekadarnya', 'sekali', 'sekali-kali', 'sekalian', 'sekaligus', 'sekalipun', 'sekarang', 'sekarang', 'sekecil', 'seketika', 'sekiranya', 'sekitar', 'sekitarnya', 'sekurang-kurangnya', 'sekurangnya', 'sela', 'selain', 'selaku', 'selalu', 'selama', 'selama-lamanya', 'selamanya', 'selanjutnya', 'seluruh', 'seluruhnya', 'semacam', 'semakin', 'semampu', 'semampunya', 'semasa', 'semasih', 'semata', 'semata-mata', 'semaunya', 'sementara', 'semisal', 'semisalnya', 'sempat', 'semua', 'semuanya', 'semula', 'sendiri', 'sendirian', 'sendirinya', 'seolah', 'seolah-olah', 'seorang', 'sepanjang', 'sepantasnya', 'sepantasnyalah', 'seperlunya', 'seperti', 'sepertinya', 'sepihak', 'sering', 'seringnya', 'serta', 'serupa', 'sesaat', 'sesama', 'sesampai', 'sesegera', 'sesekali', 'seseorang', 'sesuatu', 'sesuatunya', 'sesudah', 'sesudahnya', 'setelah', 'setempat', 'setengah', 'seterusnya', 'setiap', 'setiba', 'setibanya', 'setidak-tidaknya', 'setidaknya', 'setinggi', 'seusai', 'sewaktu', 'siap', 'siapa', 'siapakah', 'siapapun', 'sini', 'sinilah', 'soal', 'soalnya', 'suatu', 'sudah', 'sudahkah', 'sudahlah', 'supaya', 'tadi', 'tadinya', 'tahu', 'tahun', 'tak', 'tambah', 'tambahnya', 'tampak', 'tampaknya', 'tandas', 'tandasnya', 'tanpa', 'tanya', 'tanyakan', 'tanyanya', 'tapi', 'tegas', 'tegasnya', 'telah', 'tempat', 'tengah', 'tentang', 'tentu', 'tentulah', 'tentunya', 'tepat', 'terakhir', 'terasa', 'terbanyak', 'terdahulu', 'terdapat', 'terdiri', 'terhadap', 'terhadapnya', 'teringat', 'teringat-ingat', 'terjadi', 'terjadilah', 'terjadinya', 'terkira', 'terlalu', 'terlebih', 'terlihat', 'termasuk', 'ternyata', 'tersampaikan', 'tersebut', 'tersebutlah', 'tertentu', 'tertuju', 'terus', 'terutama', 'tetap', 'tetapi', 'tiap', 'tiba', 'tiba-tiba', 'tidak', 'tidakkah', 'tidaklah', 'tiga', 'tinggi', 'toh', 'tunjuk', 'turut', 'tutur', 'tuturnya', 'ucap', 'ucapnya', 'ujar', 'ujarnya', 'umum', 'umumnya', 'ungkap', 'ungkapnya', 'untuk', 'usah', 'usai', 'waduh', 'wah', 'wahai', 'waktu', 'waktunya', 'walau', 'walaupun', 'wong', 'yaitu', 'yakin', 'yakni', 'yang']\n",
            "!\"#$%&'()*+,-./:;<=>?@[\\]^_`{|}~\n"
          ],
          "name": "stdout"
        }
      ]
    },
    {
      "cell_type": "code",
      "metadata": {
        "colab": {
          "base_uri": "https://localhost:8080/",
          "height": 759
        },
        "id": "kni7uXZmua2Z",
        "outputId": "789bd8c6-65e4-4058-ae84-2a518c1e9f1f"
      },
      "source": [
        "#pre-process sms content\r\n",
        "\r\n",
        "def pre_process(sms):\r\n",
        "  lowercase = \"\".join([char.lower() for char in sms if char not in punctuation])\r\n",
        "  tokenize = nltk.tokenize.word_tokenize(lowercase)\r\n",
        "  remove_stopwords = [word for word in tokenize if word not in stopwords]\r\n",
        "  return remove_stopwords\r\n",
        "\r\n",
        "data['processed'] = data['sms'].apply(lambda x: pre_process(x))\r\n",
        "data.head(500)"
      ],
      "execution_count": null,
      "outputs": [
        {
          "output_type": "execute_result",
          "data": {
            "text/html": [
              "<div>\n",
              "<style scoped>\n",
              "    .dataframe tbody tr th:only-of-type {\n",
              "        vertical-align: middle;\n",
              "    }\n",
              "\n",
              "    .dataframe tbody tr th {\n",
              "        vertical-align: top;\n",
              "    }\n",
              "\n",
              "    .dataframe thead th {\n",
              "        text-align: right;\n",
              "    }\n",
              "</style>\n",
              "<table border=\"1\" class=\"dataframe\">\n",
              "  <thead>\n",
              "    <tr style=\"text-align: right;\">\n",
              "      <th></th>\n",
              "      <th>sms</th>\n",
              "      <th>nomor</th>\n",
              "      <th>label</th>\n",
              "      <th>processed</th>\n",
              "    </tr>\n",
              "  </thead>\n",
              "  <tbody>\n",
              "    <tr>\n",
              "      <th>0</th>\n",
              "      <td>lni No Rek Nya Bank Mandiri 157-000-7197-883 A...</td>\n",
              "      <td>82321166619</td>\n",
              "      <td>Penipuan</td>\n",
              "      <td>[lni, no, rek, nya, bank, mandiri, 15700071978...</td>\n",
              "    </tr>\n",
              "    <tr>\n",
              "      <th>1</th>\n",
              "      <td>Selamat no Anda trpilih Mndapatkan Hadiah ke-3...</td>\n",
              "      <td>85348849749</td>\n",
              "      <td>Penipuan</td>\n",
              "      <td>[selamat, no, trpilih, mndapatkan, hadiah, ke3...</td>\n",
              "    </tr>\n",
              "    <tr>\n",
              "      <th>2</th>\n",
              "      <td>P3S4N R3SM1 SH0PEE Program tahunan 2020 no and...</td>\n",
              "      <td>85281914083</td>\n",
              "      <td>Penipuan</td>\n",
              "      <td>[p3s4n, r3sm1, sh0pee, program, tahunan, 2020,...</td>\n",
              "    </tr>\n",
              "    <tr>\n",
              "      <th>3</th>\n",
              "      <td>Pusing Dengan Masalah ekonomi Kami solusinya P...</td>\n",
              "      <td>85233034618</td>\n",
              "      <td>Penipuan</td>\n",
              "      <td>[pusing, ekonomi, solusinya, pinjol, min, 5jt5...</td>\n",
              "    </tr>\n",
              "    <tr>\n",
              "      <th>4</th>\n",
              "      <td>Anda Terpilih Pemenang cek Rp.175.000.000 PIN ...</td>\n",
              "      <td>85212204890</td>\n",
              "      <td>Penipuan</td>\n",
              "      <td>[terpilih, pemenang, cek, rp175000000, pin, 25...</td>\n",
              "    </tr>\n",
              "    <tr>\n",
              "      <th>...</th>\n",
              "      <td>...</td>\n",
              "      <td>...</td>\n",
              "      <td>...</td>\n",
              "      <td>...</td>\n",
              "    </tr>\n",
              "    <tr>\n",
              "      <th>495</th>\n",
              "      <td>Pelanggan 081  27699  15441  +2000 COIN PULSA ...</td>\n",
              "      <td>85282859095</td>\n",
              "      <td>Penipuan</td>\n",
              "      <td>[pelanggan, 081, 27699, 15441, 2000, coin, pul...</td>\n",
              "    </tr>\n",
              "    <tr>\n",
              "      <th>496</th>\n",
              "      <td>PESAN RESMI !!  Anda pemenang  SHOPEE AWAL TAH...</td>\n",
              "      <td>82358420264</td>\n",
              "      <td>Penipuan</td>\n",
              "      <td>[pesan, resmi, pemenang, shopee, tah, unan, 12...</td>\n",
              "    </tr>\n",
              "    <tr>\n",
              "      <th>497</th>\n",
              "      <td>Pelanggan 082371 334121, Kamu  Dapat +1000 COI...</td>\n",
              "      <td>85216045718</td>\n",
              "      <td>Penipuan</td>\n",
              "      <td>[pelanggan, 082371, 334121, 1000, coin, pul, s...</td>\n",
              "    </tr>\n",
              "    <tr>\n",
              "      <th>498</th>\n",
              "      <td>Ass bpk/ibu  Selamat Anda  resmi mendapatkan  ...</td>\n",
              "      <td>82334331200</td>\n",
              "      <td>Penipuan</td>\n",
              "      <td>[ass, bpkibu, selamat, resmi, hadiah, undian, ...</td>\n",
              "    </tr>\n",
              "    <tr>\n",
              "      <th>499</th>\n",
              "      <td>Ass1Bpk/Ibu Butuh Dana  Kami Mnawarkan Pnjaman...</td>\n",
              "      <td>82252306232</td>\n",
              "      <td>Iklan/promosi</td>\n",
              "      <td>[ass1bpkibu, butuh, dana, mnawarkan, pnjaman, ...</td>\n",
              "    </tr>\n",
              "  </tbody>\n",
              "</table>\n",
              "<p>500 rows × 4 columns</p>\n",
              "</div>"
            ],
            "text/plain": [
              "                                                   sms  ...                                          processed\n",
              "0    lni No Rek Nya Bank Mandiri 157-000-7197-883 A...  ...  [lni, no, rek, nya, bank, mandiri, 15700071978...\n",
              "1    Selamat no Anda trpilih Mndapatkan Hadiah ke-3...  ...  [selamat, no, trpilih, mndapatkan, hadiah, ke3...\n",
              "2    P3S4N R3SM1 SH0PEE Program tahunan 2020 no and...  ...  [p3s4n, r3sm1, sh0pee, program, tahunan, 2020,...\n",
              "3    Pusing Dengan Masalah ekonomi Kami solusinya P...  ...  [pusing, ekonomi, solusinya, pinjol, min, 5jt5...\n",
              "4    Anda Terpilih Pemenang cek Rp.175.000.000 PIN ...  ...  [terpilih, pemenang, cek, rp175000000, pin, 25...\n",
              "..                                                 ...  ...                                                ...\n",
              "495  Pelanggan 081  27699  15441  +2000 COIN PULSA ...  ...  [pelanggan, 081, 27699, 15441, 2000, coin, pul...\n",
              "496  PESAN RESMI !!  Anda pemenang  SHOPEE AWAL TAH...  ...  [pesan, resmi, pemenang, shopee, tah, unan, 12...\n",
              "497  Pelanggan 082371 334121, Kamu  Dapat +1000 COI...  ...  [pelanggan, 082371, 334121, 1000, coin, pul, s...\n",
              "498  Ass bpk/ibu  Selamat Anda  resmi mendapatkan  ...  ...  [ass, bpkibu, selamat, resmi, hadiah, undian, ...\n",
              "499  Ass1Bpk/Ibu Butuh Dana  Kami Mnawarkan Pnjaman...  ...  [ass1bpkibu, butuh, dana, mnawarkan, pnjaman, ...\n",
              "\n",
              "[500 rows x 4 columns]"
            ]
          },
          "metadata": {
            "tags": []
          },
          "execution_count": 27
        }
      ]
    },
    {
      "cell_type": "code",
      "metadata": {
        "colab": {
          "base_uri": "https://localhost:8080/"
        },
        "id": "Co_vvwN-u60H",
        "outputId": "2d176c55-c642-4cd3-dbf9-d9e87b4d9dcf"
      },
      "source": [
        "#categorizing ham/spam associated words\r\n",
        "\r\n",
        "def categorize_words():\r\n",
        "    Penipuan_words = []\r\n",
        "    Iklanpromosi_words = []\r\n",
        "\r\n",
        "    #spam associated words\r\n",
        "    for sms in data['processed'][data['label'] == 'Penipuan']:\r\n",
        "      for word in sms:\r\n",
        "        Penipuan_words.append(word)\r\n",
        "\r\n",
        "    for sms in data['processed'][data['label'] == 'Iklan/promosi']:\r\n",
        "      for word in sms:\r\n",
        "        Iklanpromosi_words.append(word)\r\n",
        "\r\n",
        "    return Penipuan_words, Iklanpromosi_words\r\n",
        "\r\n",
        "\r\n",
        "Penipuan_words, Iklanpromosi_words = categorize_words()\r\n",
        "\r\n",
        "print(Penipuan_words[:5])\r\n",
        "print(Iklanpromosi_words[:5])"
      ],
      "execution_count": null,
      "outputs": [
        {
          "output_type": "stream",
          "text": [
            "['lni', 'no', 'rek', 'nya', 'bank']\n",
            "['butuh', 'b14y4', 'tmbahan', 'mdal', 'us4h4']\n"
          ],
          "name": "stdout"
        }
      ]
    },
    {
      "cell_type": "code",
      "metadata": {
        "id": "rtze26usbvVd"
      },
      "source": [
        "def predict(user_input):\r\n",
        "  Penipuan_counter = 0\r\n",
        "  Iklanpromosi_counter = 0 \r\n",
        "\r\n",
        "  for word in user_input:\r\n",
        "    Penipuan_counter += Penipuan_words.count(word)\r\n",
        "    Iklanpromosi_counter += Iklanpromosi_words.count(word)\r\n",
        "\r\n",
        "  print(\"********************************** RESULTS ***************************\")\r\n",
        "  if Iklanpromosi_counter > Penipuan_counter:\r\n",
        "    accuracy = round((Iklanpromosi_counter / (Iklanpromosi_counter + Penipuan_counter)) * 100, 2)\r\n",
        "    print(\"Message is not iklan/promosi, with {}% accuracy\".format(accuracy))\r\n",
        "  elif Penipuan_counter > Iklanpromosi_counter:\r\n",
        "    accuracy = round((Penipuan_counter / (Iklanpromosi_counter + Penipuan_counter)) * 100, 2)\r\n",
        "    print('Message is not Penipuan, with {}% accuray'.format(accuracy))\r\n",
        "  else:\r\n",
        "    print('Message could be Penipuan, with 50% accuracy')\r\n"
      ],
      "execution_count": null,
      "outputs": []
    },
    {
      "cell_type": "code",
      "metadata": {
        "colab": {
          "base_uri": "https://localhost:8080/"
        },
        "id": "NBWvlZ1RdZww",
        "outputId": "2f35157b-243d-44ff-8c1f-d894cc325e7d"
      },
      "source": [
        "user_input = input('please type a Penipuan or Iklanpromosi message to check if our function predicts property\\n')\r\n"
      ],
      "execution_count": null,
      "outputs": [
        {
          "output_type": "stream",
          "text": [
            "please type a Penipuan or Iklanpromosi message to check if our function predicts property\n",
            "no rek bank bca\n"
          ],
          "name": "stdout"
        }
      ]
    },
    {
      "cell_type": "code",
      "metadata": {
        "colab": {
          "base_uri": "https://localhost:8080/"
        },
        "id": "xNjE_lCpeC0N",
        "outputId": "1deb4ba0-7096-4327-802f-eeb14c4d9cf7"
      },
      "source": [
        "processed_input = pre_process(user_input)\r\n",
        "predict(processed_input)"
      ],
      "execution_count": null,
      "outputs": [
        {
          "output_type": "stream",
          "text": [
            "********************************** RESULTS ***************************\n",
            "Message is not Penipuan, with 57.33% accuray\n"
          ],
          "name": "stdout"
        }
      ]
    },
    {
      "cell_type": "code",
      "metadata": {
        "id": "YEU_GqnbejOb"
      },
      "source": [
        ""
      ],
      "execution_count": null,
      "outputs": []
    }
  ]
}